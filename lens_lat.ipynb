{
 "cells": [
  {
   "cell_type": "code",
   "execution_count": 4,
   "metadata": {},
   "outputs": [],
   "source": [
    "import wosplus as wp"
   ]
  },
  {
   "cell_type": "code",
   "execution_count": 5,
   "metadata": {},
   "outputs": [
    {
     "name": "stdout",
     "output_type": "stream",
     "text": [
      "Overwriting drive.cfg\n"
     ]
    }
   ],
   "source": [
    "%%writefile drive.cfg\n",
    "[FILES]\n",
    "UDEA_authors_with_WOS_info.json       =1o1eVT4JD0FMMICq_oxrTJOzWh47veBMw\n",
    "WOS_SCI_SCP_PTJ_CTR.json.gz           =19E1C1kRk4I0V3uXojqko8-NEicWaPp1j\n",
    "lens_lat_2019-04-01_2019-06-30.json.gz=11IM--JWIrFq6s2Bn-lNKtTAWm_XANAGx\n",
    "lens_lat_2018-12-01_2019-03-31.json.gz=11D_TH-Jp95qcjf_5oLMiyZXto98eXFZv\n",
    "lens_lat_2018-09-01_2018-11-30.json.gz=11CjOQb_qaz_Igg_BouNP1bayKvjMmfLM\n",
    "lens_lat_2018-06-01_2018-08-31.json.gz=1191l19-rBlXWyV1FpkeGS60aMGGEhlY1\n",
    "lens_lat_2018-02-01_2018-05-31.json.gz=117XflAqxJOtSqbNRuAD7qvdXKcq9sWV9\n",
    "lens_lat_2017-12-01_2018-01-31.json.gz=11-gmcyfHjtZOhPSEzQGkgDBZO8NmWoUE\n",
    "lens_lat_2017-06-01_2017-08-31.json.gz=11-JllgMrMw3_3zBH1rgGwxai97tjiobt\n",
    "lens_lat_2017-02-01_2017-05-31.json.gz=10nQKCGer00evOusselh272ArLFEkdCDT\n",
    "lens_lat_2016-12-01_2017-01-31.json.gz=10m_Fo6aDbjhN5cXpFHj73FXSghpn4OQ3\n",
    "lens_lat_2016-09-01_2016-11-30.json.gz=10kbscWWxVDJbeuotDUU7e9IHRAiS59lO\n",
    "lens_lat_2016-06-01_2016-08-31.json.gz=10hOv4cFEdE-8oC3310CTp0A0_SN-H5Qt\n",
    "lens_lat_2016-03-01_2016-05-31.json.gz=10gIrPWa5OBMxjm_rLQ_jQ2Gu_M6-zGgD\n",
    "lens_lat_2016-01-01_2016-02-29.json.gz=10dSIx1s-im-3ZYlmXgBCbhdUmC8BOzid\n",
    "lens_lat_2015-11-01_2015-12-31.json.gz=10cWT0BDn2IlD9zBRflTxIOTdIcqZS-B4\n",
    "lens_lat_2015-07-01_2015-10-31.json.gz=10ahPuzX2y70vtXqO9xLHkkeg7F5EOHnM\n",
    "lens_lat_2015-03-01_2015-06-30.json.gz=10VtXIUJ3XOE7VyA9QCLL2H3yGP0DnaFw\n",
    "lens_lat_2015-01-01_2015-02-28.json.gz=10TZfHu0fTlWLfopa-sq66Suzh35_2mkp\n",
    "lens_lat_2014-11-01_2014-12-31.json.gz=10T5eHtSB9Gbmz5Ihtbj-xry8KxkVI3i5\n",
    "lens_lat_2014-07-01_2014-10-31.json.gz=10O5EpnCR5Pn0WV-J8rIG46xP34bwUYyg\n",
    "lens_lat_2014-03-01_2014-06-30.json.gz=10Di2UcHTlfsgYPfpzKHTgWgXQibSznTg\n",
    "lens_lat_2014-01-01_2014-02-28.json.gz=1092RZhn-0oXve98bAecVULaHJmg9_2q5\n",
    "lens_lat_2013-09-01_2013-12-31.json.gz=107cplrrWFZr__ysGQvmIIn2GoA43QEi7\n",
    "lens_lat_2013-04-01_2013-08-31.json.gz=105B136Ysg9heeoOXpAwH9nSq8jsXZE4a\n",
    "lens_lat_2012-09-01_2012-12-31.json.gz=104vZDKbZj1qXbnj-kwfN44y3OtyW-RFC\n",
    "lens_lat_2012-04-01_2012-08-31.json.gz=101yBZSsTbiTo1vsma9TSU5XP8ugIFJip\n",
    "lens_lat_2012-01-01_2012-03-31.json.gz=100Syzm4xJ9MC1SX2poTRXJjlbDyOoXSU\n",
    "lens_lat_2011-09-01_2011-12-31.json.gz=10-lPswtacMlE98LN97eB4AbFJpWfpn63\n",
    "lens_lat_2011-03-01_2011-08-31.json.gz=10-Tv-ULF0cgZoYyEMWoKKU4SoybYF5vl\n",
    "lens_lat_2010-12-01_2011-02-28.json.gz=1-z7OftzGVh1tJyxK0M7d8icaJ4ERXuN1\n",
    "lens_lat_2010-05-30_2010-11-30.json.gz=1-vIwF0yf4QlLbuhUapGgC-mIAe_uKmiW\n",
    "lens_lat_2010-01-01_2010-04-30.json.gz=1-vFxXE2PZ4E1OJFr0EdE9H00IciUqq5I\n",
    "lens_lat_2009-06-01_2009-12-31.json.gz=1-qgY9IVh2rzHFVxuD_YjQ0FHeDFcZbJo\n",
    "lens_lat_2009-01-01_2009-05-31.json.gz=1-gl1tiVLNjiKQvZRqp7JVVzTZhH8oSvL\n",
    "lens_lat_2008-06-01_2008-12-31.json.gz=1-dd6RoLePalsrxcVP9VGW1jwcmxhKJ1J\n",
    "lens_lat_2008-01-01_2008-05-31.json.gz=1-ayRWDL8qkmZ2-MGDL7N-PDgkTNrfFih\n",
    "lens_lat_2007-03-31_2007-12-31.json.gz=1-WMrYIl5GwP84UIacFD5z4tnyGyKDpAI\n",
    "lens_lat_2006-08-01_2007-02-28.json.gz=1-WLO9AqMvNhrJ0WpkwNk8yXtEasNHdEj\n",
    "lens_lat_2005-12-01_2006-07-31.json.gz=1-Vgr695qvfp7Kp8ED_DrQduPAJKuOxR_\n",
    "lens_lat_2005-01-01_2005-11-30.json.gz=1-PLDU4UJziErzwaUHrrN3qF4QBymlP89\n",
    "lens_lat_2004-01-01_2004-12-31.json.gz=1-MaQqD_OTNwIDWpgexqzwL2UGwHoOqfa\n",
    "lens_lat_2003-01-01_2003-12-31.json.gz=1-G9SSaBb4FZeyvrZ7udemctcIrKdhyVm\n",
    "lens_lat_2002-01-01_2002-12-32.json.gz=1-DGJTJzzgi4wyJwZkw0SHKOJ9LScD-Xo\n",
    "lens_lat_2000-03-31_2001-12-31.json.gz=1-8cKkHJLofb8RpRdillKnVNDShrUqu-l\n",
    "lens_lat_1998-05-31_2000-03-31.json.gz=1-8UrsABcPc2q2mLUhQtlq6RqThvGWzeV\n",
    "lens_lat_1995-12-01_1998-05-31.json.gz=1-3UxBNSwM8D-ZKDpAN0Rya3Zdzjpxg3j\n",
    "lens_lat_1991-02-01_1995-11-30.json.gz=180CBTphUQVwFIrfU3eW4kqd1F9q8R5XU\n",
    "lens_lat_1984-01-01_1991-01-31.json.gz=11QhtKYIR8hXlEBBfdIVcvxPyC5tQrzAp\n",
    "lens_lat_1900-01-01_1983-12-31.json.gz=11PnX2Z71bCJahtv-5uOaelAorkQMGe7l"
   ]
  },
  {
   "cell_type": "code",
   "execution_count": 6,
   "metadata": {},
   "outputs": [],
   "source": [
    "df=wp.wosplus('drive.cfg')"
   ]
  },
  {
   "cell_type": "code",
   "execution_count": 7,
   "metadata": {},
   "outputs": [],
   "source": [
    "lt=df.read_drive_json('lens_lat_2019-04-01_2019-06-30.json.gz',compression='gzip',encoding='utf-8')"
   ]
  },
  {
   "cell_type": "code",
   "execution_count": 14,
   "metadata": {},
   "outputs": [
    {
     "data": {
      "text/plain": [
       "(732, 23)"
      ]
     },
     "execution_count": 14,
     "metadata": {},
     "output_type": "execute_result"
    }
   ],
   "source": []
  },
  {
   "cell_type": "code",
   "execution_count": 5,
   "metadata": {},
   "outputs": [],
   "source": [
    "js=list( df.drive_file.keys() )"
   ]
  },
  {
   "cell_type": "code",
   "execution_count": 6,
   "metadata": {},
   "outputs": [],
   "source": [
    "import pandas as pd\n",
    "import re"
   ]
  },
  {
   "cell_type": "code",
   "execution_count": 7,
   "metadata": {},
   "outputs": [],
   "source": [
    "js=sorted( [ j  for j in js if re.search('lens_lat.*json.gz$',j) ] )"
   ]
  },
  {
   "cell_type": "code",
   "execution_count": 8,
   "metadata": {},
   "outputs": [],
   "source": [
    "lt=pd.DataFrame()"
   ]
  },
  {
   "cell_type": "code",
   "execution_count": 9,
   "metadata": {},
   "outputs": [
    {
     "name": "stdout",
     "output_type": "stream",
     "text": [
      "lens_lat_1900-01-01_1983-12-31.json.gz\n",
      "lens_lat_1984-01-01_1991-01-31.json.gz\n",
      "lens_lat_1991-02-01_1995-11-30.json.gz\n",
      "lens_lat_1995-12-01_1998-05-31.json.gz\n",
      "lens_lat_1998-05-31_2000-03-31.json.gz\n",
      "lens_lat_2000-03-31_2001-12-31.json.gz\n",
      "lens_lat_2002-01-01_2002-12-32.json.gz\n",
      "lens_lat_2003-01-01_2003-12-31.json.gz\n",
      "lens_lat_2004-01-01_2004-12-31.json.gz\n",
      "lens_lat_2005-01-01_2005-11-30.json.gz\n",
      "lens_lat_2005-12-01_2006-07-31.json.gz\n",
      "lens_lat_2006-08-01_2007-02-28.json.gz\n",
      "lens_lat_2007-03-31_2007-12-31.json.gz\n",
      "lens_lat_2008-01-01_2008-05-31.json.gz\n",
      "lens_lat_2008-06-01_2008-12-31.json.gz\n",
      "lens_lat_2009-01-01_2009-05-31.json.gz\n",
      "lens_lat_2009-06-01_2009-12-31.json.gz\n",
      "lens_lat_2010-01-01_2010-04-30.json.gz\n",
      "lens_lat_2010-05-30_2010-11-30.json.gz\n",
      "lens_lat_2010-12-01_2011-02-28.json.gz\n",
      "lens_lat_2011-03-01_2011-08-31.json.gz\n",
      "lens_lat_2011-09-01_2011-12-31.json.gz\n",
      "lens_lat_2012-01-01_2012-03-31.json.gz\n",
      "lens_lat_2012-04-01_2012-08-31.json.gz\n",
      "lens_lat_2012-09-01_2012-12-31.json.gz\n",
      "lens_lat_2013-04-01_2013-08-31.json.gz\n",
      "lens_lat_2013-09-01_2013-12-31.json.gz\n",
      "lens_lat_2014-01-01_2014-02-28.json.gz\n",
      "lens_lat_2014-03-01_2014-06-30.json.gz\n",
      "lens_lat_2014-07-01_2014-10-31.json.gz\n",
      "lens_lat_2014-11-01_2014-12-31.json.gz\n",
      "lens_lat_2015-01-01_2015-02-28.json.gz\n",
      "lens_lat_2015-03-01_2015-06-30.json.gz\n",
      "lens_lat_2015-07-01_2015-10-31.json.gz\n",
      "lens_lat_2015-11-01_2015-12-31.json.gz\n",
      "lens_lat_2016-01-01_2016-02-29.json.gz\n",
      "lens_lat_2016-03-01_2016-05-31.json.gz\n",
      "lens_lat_2016-06-01_2016-08-31.json.gz\n",
      "lens_lat_2016-09-01_2016-11-30.json.gz\n",
      "lens_lat_2016-12-01_2017-01-31.json.gz\n",
      "lens_lat_2017-02-01_2017-05-31.json.gz\n",
      "lens_lat_2017-06-01_2017-08-31.json.gz\n",
      "lens_lat_2017-12-01_2018-01-31.json.gz\n",
      "lens_lat_2018-02-01_2018-05-31.json.gz\n",
      "lens_lat_2018-06-01_2018-08-31.json.gz\n",
      "lens_lat_2018-09-01_2018-11-30.json.gz\n",
      "lens_lat_2018-12-01_2019-03-31.json.gz\n",
      "lens_lat_2019-04-01_2019-06-30.json.gz\n"
     ]
    }
   ],
   "source": [
    "jsend=8\n",
    "for j  in  js:#[0:jsend]:\n",
    "    print(j)\n",
    "    lt=lt.append(df.read_drive_json(j,compression='gzip',encoding='utf-8'),sort=False)"
   ]
  },
  {
   "cell_type": "code",
   "execution_count": 10,
   "metadata": {},
   "outputs": [
    {
     "data": {
      "text/plain": [
       "(2099483, 33)"
      ]
     },
     "execution_count": 10,
     "metadata": {},
     "output_type": "execute_result"
    }
   ],
   "source": [
    "lt.shape"
   ]
  },
  {
   "cell_type": "code",
   "execution_count": 12,
   "metadata": {},
   "outputs": [],
   "source": [
    "lt=lt.reset_index(drop=True)"
   ]
  },
  {
   "cell_type": "code",
   "execution_count": 22,
   "metadata": {},
   "outputs": [],
   "source": [
    "lt.to_json('lens_lat_lines_True_orient_records.json.gz',lines=True,orient='records',compression='gzip')"
   ]
  },
  {
   "cell_type": "code",
   "execution_count": 24,
   "metadata": {},
   "outputs": [
    {
     "name": "stdout",
     "output_type": "stream",
     "text": [
      "-rw-r--r-- 1 restrepo restrepo 2.1G Jul  3 03:04 lens_lat_lines_True_orient_records.json.gz\r\n"
     ]
    }
   ],
   "source": [
    "ls -lh lens_lat_lines_True_orient_records.json.gz"
   ]
  },
  {
   "cell_type": "code",
   "execution_count": null,
   "metadata": {},
   "outputs": [],
   "source": [
    "del lt"
   ]
  },
  {
   "cell_type": "code",
   "execution_count": 2,
   "metadata": {},
   "outputs": [],
   "source": [
    "import pandas as pd"
   ]
  },
  {
   "cell_type": "code",
   "execution_count": 18,
   "metadata": {},
   "outputs": [],
   "source": [
    "lt=pd.read_json( '/scratch/restrepo/HUGE/JSON/lens_lat_lines_True_orient_records.json.gz',\n",
    "                lines=True,orient='records',compression='gzip'  )"
   ]
  },
  {
   "cell_type": "code",
   "execution_count": 5,
   "metadata": {},
   "outputs": [],
   "source": [
    "udea=lt[lt.authors.astype(str).str.contains('University of Antioquia')]"
   ]
  },
  {
   "cell_type": "code",
   "execution_count": 19,
   "metadata": {},
   "outputs": [],
   "source": [
    "lensco=lt[lt.authors.astype(str).str.contains(\"'country_code': 'CO'\")]"
   ]
  },
  {
   "cell_type": "code",
   "execution_count": 20,
   "metadata": {},
   "outputs": [
    {
     "data": {
      "text/plain": [
       "(178776, 33)"
      ]
     },
     "execution_count": 20,
     "metadata": {},
     "output_type": "execute_result"
    }
   ],
   "source": [
    "lensco.shape"
   ]
  },
  {
   "cell_type": "code",
   "execution_count": 21,
   "metadata": {},
   "outputs": [],
   "source": [
    "lt.to_json('lens_co_lines_True_orient_records.json.gz',lines=True,orient='records',compression='gzip')"
   ]
  },
  {
   "cell_type": "code",
   "execution_count": null,
   "metadata": {},
   "outputs": [],
   "source": [
    "del lt"
   ]
  },
  {
   "cell_type": "code",
   "execution_count": null,
   "metadata": {},
   "outputs": [],
   "source": [
    "lt=pd.read_json( '/scratch/restrepo/HUGE/JSON/lens_co_lines_True_orient_records.json.gz',\n",
    "                lines=True,orient='records',compression='gzip'  )"
   ]
  },
  {
   "cell_type": "code",
   "execution_count": null,
   "metadata": {},
   "outputs": [],
   "source": []
  }
 ],
 "metadata": {
  "kernelspec": {
   "display_name": "Python 3",
   "language": "python",
   "name": "python3"
  },
  "language_info": {
   "codemirror_mode": {
    "name": "ipython",
    "version": 3
   },
   "file_extension": ".py",
   "mimetype": "text/x-python",
   "name": "python",
   "nbconvert_exporter": "python",
   "pygments_lexer": "ipython3",
   "version": "3.5.3"
  }
 },
 "nbformat": 4,
 "nbformat_minor": 2
}
